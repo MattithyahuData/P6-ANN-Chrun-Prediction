{
 "cells": [
  {
   "cell_type": "code",
   "execution_count": 1,
   "metadata": {},
   "outputs": [
    {
     "name": "stdout",
     "output_type": "stream",
     "text": [
      "['c:\\\\Users\\\\matti\\\\OneDrive\\\\MyProjects\\\\Projects\\\\P6 Anomaly Detection', 'c:\\\\Users\\\\matti\\\\.vscode\\\\extensions\\\\ms-toolsai.jupyter-2021.10.1101450599\\\\pythonFiles', 'c:\\\\Users\\\\matti\\\\.vscode\\\\extensions\\\\ms-toolsai.jupyter-2021.10.1101450599\\\\pythonFiles\\\\lib\\\\python', 'C:\\\\ProgramData\\\\Anaconda3\\\\envs\\\\pycaret\\\\python38.zip', 'C:\\\\ProgramData\\\\Anaconda3\\\\envs\\\\pycaret\\\\DLLs', 'C:\\\\ProgramData\\\\Anaconda3\\\\envs\\\\pycaret\\\\lib', 'C:\\\\ProgramData\\\\Anaconda3\\\\envs\\\\pycaret', '', 'C:\\\\Users\\\\matti\\\\AppData\\\\Roaming\\\\Python\\\\Python38\\\\site-packages', 'C:\\\\ProgramData\\\\Anaconda3\\\\envs\\\\pycaret\\\\lib\\\\site-packages', 'C:\\\\ProgramData\\\\Anaconda3\\\\envs\\\\pycaret\\\\lib\\\\site-packages\\\\win32', 'C:\\\\ProgramData\\\\Anaconda3\\\\envs\\\\pycaret\\\\lib\\\\site-packages\\\\win32\\\\lib', 'C:\\\\ProgramData\\\\Anaconda3\\\\envs\\\\pycaret\\\\lib\\\\site-packages\\\\Pythonwin', 'C:\\\\ProgramData\\\\Anaconda3\\\\envs\\\\pycaret\\\\lib\\\\site-packages\\\\IPython\\\\extensions', 'C:\\\\Users\\\\matti\\\\.ipython']\n"
     ]
    }
   ],
   "source": [
    "import sys\n",
    "print(sys.path)"
   ]
  }
 ],
 "metadata": {
  "interpreter": {
   "hash": "cfc935db4639bd070c006f2a84a4ce79c9f440f849ac576be99dca75b69b259b"
  },
  "kernelspec": {
   "display_name": "Python 3.8.12 64-bit ('pycaret': conda)",
   "language": "python",
   "name": "python3"
  },
  "language_info": {
   "codemirror_mode": {
    "name": "ipython",
    "version": 3
   },
   "file_extension": ".py",
   "mimetype": "text/x-python",
   "name": "python",
   "nbconvert_exporter": "python",
   "pygments_lexer": "ipython3",
   "version": "3.8.12"
  },
  "orig_nbformat": 4
 },
 "nbformat": 4,
 "nbformat_minor": 2
}
